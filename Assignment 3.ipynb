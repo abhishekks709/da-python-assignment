{
 "cells": [
  {
   "cell_type": "markdown",
   "metadata": {},
   "source": [
    "Ques 1: Explain the significance of Python keywords and provide examples of five keywords?\n",
    "Ans: Python keywords are reserved words that have predefined meanings in the Python language. These keywords cannot be used as variable names or function names because they are used by Python to define the syntax and structure of the language. Understanding and using Python keywords correctly is essential for writing correct and readable code. Example: if,elif,else, for, while, do while, return, break,print.."
   ]
  },
  {
   "cell_type": "markdown",
   "metadata": {},
   "source": [
    "Ques 2: Describe the rules for defining identifiers in Python and provide an example\n",
    "Ans: Identifiers are names given to various entities like variables, functions, classes, etc. Here are the rules for defining identifiers in Python:\n",
    "a) Valid Charater means contain letters, digits and underscores but can't start with digit and are case sensitive (e.g: name, Name, num1).\n",
    "b) cannot be same as identifiers.\n",
    "c) use lowercase letters for variable names and underscore to separate words in multi-word identifiers (snake_case).\n",
    "d) For class names, the convention is to use CamelCase.\n",
    "e) Constants are usually named using all uppercase letters with underscores separating words (UPPER_CASE)"
   ]
  },
  {
   "cell_type": "markdown",
   "metadata": {},
   "source": [
    "Ques 3: What are comments in Python, and why are they useful? Provide an example\n",
    "Ans : Comments are very useful in programming because it contain information which making it easier for other developers to understand its purpose, functionality, and logic. Comments can be used to temporarily disable sections of code during debugging without deleting them, allowing quick restoration when needed.\n",
    "e.g: # Single line Comment.,\n",
    "\"\"\"\n",
    "This is a multi-line comment.\n",
    "\"\"\""
   ]
  },
  {
   "cell_type": "markdown",
   "metadata": {},
   "source": [
    "Ques 4 : Why is proper indentation important in Python?\n",
    "Ans : Proper indentation is important in Python because it determines the structure and scope of the code, affecting its readability and functionality."
   ]
  },
  {
   "cell_type": "markdown",
   "metadata": {},
   "source": [
    "Ques 5 : What happens if indentation is incorrect in Python?\n",
    "Ans : The overall code will not run and the interpreter will simply return IndentationError exception"
   ]
  },
  {
   "cell_type": "markdown",
   "metadata": {},
   "source": [
    "Ques 6 : Differentiate Between expression and statement in Python with examples\n",
    "Ans: Expression: An expression is a combination of values, variables, operators, and function calls that evaluates to a single value. It can be as simple as a single variable or complex involving multiple operators and function calls. Expressions are often used as parts of statements.\n",
    "Statement: A statement is a complete line of code that performs some action. It can be a simple assignment or a complex sequence of instructions. Statements often contain expressions, but they can also include keywords or control flow structures like loops and conditionals."
   ]
  }
 ],
 "metadata": {
  "kernelspec": {
   "display_name": "Python 3",
   "language": "python",
   "name": "python3"
  },
  "language_info": {
   "codemirror_mode": {
    "name": "ipython",
    "version": 3
   },
   "file_extension": ".py",
   "mimetype": "text/x-python",
   "name": "python",
   "nbconvert_exporter": "python",
   "pygments_lexer": "ipython3",
   "version": "3.11.3"
  }
 },
 "nbformat": 4,
 "nbformat_minor": 2
}
