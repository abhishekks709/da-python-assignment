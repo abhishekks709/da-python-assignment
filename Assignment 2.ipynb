{
 "cells": [
  {
   "cell_type": "code",
   "execution_count": 2,
   "metadata": {},
   "outputs": [
    {
     "name": "stdout",
     "output_type": "stream",
     "text": [
      "148 132 1120 17\n"
     ]
    }
   ],
   "source": [
    "#Q1: Calculate the sum, difference, product, and quotient of two numbers.\n",
    "num1 = 140\n",
    "num2 = 8\n",
    "sum_of_num = num1 + num2\n",
    "difference = num1 - num2\n",
    "prod = num1 * num2\n",
    "quot = num1 // num2\n",
    "print(sum_of_num,difference, prod,quot)"
   ]
  },
  {
   "cell_type": "code",
   "execution_count": 9,
   "metadata": {},
   "outputs": [
    {
     "name": "stdout",
     "output_type": "stream",
     "text": [
      "Initial value of x: 1000\n",
      "After addition assignment, x: 1005\n",
      "After subtraction assignment, x: 1002\n",
      "After multiplication assignment, x: 8016\n",
      "After division assignment, x: 2672.0\n",
      "After modulus assignment, x: 10.0\n",
      "After exponentiation assignment, x: 100.0\n",
      "After floor division assignment, x: 20.0\n",
      "After bitwise AND assignment, x: 0\n",
      "After bitwise OR assignment, x: 5\n",
      "After bitwise XOR assignment, x: 7\n",
      "After bitwise left shift assignment, x: 14\n",
      "After bitwise right shift assignment, x: 3\n"
     ]
    }
   ],
   "source": [
    "# Q2 :Various Assignment Operations\n",
    "# Initialize a variable\n",
    "x = 1000\n",
    "print(\"Initial value of x:\", x)\n",
    "\n",
    "# Addition assignment\n",
    "x += 5\n",
    "print(\"After addition assignment, x:\", x)\n",
    "\n",
    "# Subtraction assignment\n",
    "x -= 3\n",
    "print(\"After subtraction assignment, x:\", x)\n",
    "\n",
    "# Multiplication assignment\n",
    "x *= 8\n",
    "print(\"After multiplication assignment, x:\", x)\n",
    "\n",
    "# Division assignment\n",
    "x /= 3\n",
    "print(\"After division assignment, x:\", x)\n",
    "\n",
    "# Modulus assignment\n",
    "x %= 11\n",
    "print(\"After modulus assignment, x:\", x)\n",
    "\n",
    "# Exponentiation assignment\n",
    "x **= 2\n",
    "print(\"After exponentiation assignment, x:\", x)\n",
    "\n",
    "# Floor division assignment\n",
    "x //= 5\n",
    "print(\"After floor division assignment, x:\", x)\n",
    "\n",
    "x = 4\n",
    "# Bitwise AND assignment\n",
    "x &= 3\n",
    "print(\"After bitwise AND assignment, x:\", x)\n",
    "\n",
    "# Bitwise OR assignment\n",
    "x |= 5\n",
    "print(\"After bitwise OR assignment, x:\", x)\n",
    "\n",
    "# Bitwise XOR assignment\n",
    "x ^= 2\n",
    "print(\"After bitwise XOR assignment, x:\", x)\n",
    "\n",
    "# Bitwise left shift assignment\n",
    "x <<= 1\n",
    "print(\"After bitwise left shift assignment, x:\", x)\n",
    "\n",
    "# Bitwise right shift assignment\n",
    "x >>= 2\n",
    "print(\"After bitwise right shift assignment, x:\", x)\n"
   ]
  },
  {
   "cell_type": "code",
   "execution_count": 11,
   "metadata": {},
   "outputs": [
    {
     "name": "stdout",
     "output_type": "stream",
     "text": [
      "result1 : True,result2 : False\n"
     ]
    }
   ],
   "source": [
    "# Q3: Compare Two number\n",
    "num1 = 10\n",
    "num2 = 14\n",
    "result1 = num2 > num1\n",
    "result2 = num1 >= num2\n",
    "print(f\"result1 : {result1},result2 : {result2}\")\n"
   ]
  },
  {
   "cell_type": "code",
   "execution_count": 12,
   "metadata": {},
   "outputs": [
    {
     "name": "stdout",
     "output_type": "stream",
     "text": [
      "True\n",
      "True\n",
      "False\n"
     ]
    }
   ],
   "source": [
    "#Q4: Check conditions using logical operators.\n",
    "num1 = 10\n",
    "num2 = 15\n",
    "print(num1 > 4 and num2 < 20)\n",
    "print(num1 > 10 or num2 < 20)\n",
    "print(not(num1 == 10 or num2 == 20 ))"
   ]
  },
  {
   "cell_type": "code",
   "execution_count": 3,
   "metadata": {},
   "outputs": [
    {
     "name": "stdout",
     "output_type": "stream",
     "text": [
      "id of a: 1762197515328, id of b: 1762197515328, id of c: 1762197512768\n",
      "True\n",
      "False\n"
     ]
    }
   ],
   "source": [
    "#Q5: Check the identity of Variables.\n",
    "a = [1,2,3,4,5,6]\n",
    "b = a\n",
    "c = [1,2,3,4,5,6]\n",
    "print(f'id of a: {id(a)}, id of b: {id(b)}, id of c: {id(c)}')\n",
    "print(a is b)\n",
    "print(a is c)\n",
    "\n",
    "\n"
   ]
  },
  {
   "cell_type": "code",
   "execution_count": 7,
   "metadata": {},
   "outputs": [
    {
     "name": "stdout",
     "output_type": "stream",
     "text": [
      "0\n",
      "10\n",
      "10\n",
      "-9\n",
      "32\n",
      "2\n"
     ]
    }
   ],
   "source": [
    "#Q6 : Bitwise Operations\n",
    "a = 8\n",
    "b = 2\n",
    "print(a&b)\n",
    "print(a|b)\n",
    "print(a^b)\n",
    "print(~a)\n",
    "print(a << 2)\n",
    "print(a >> 2)"
   ]
  },
  {
   "cell_type": "code",
   "execution_count": 8,
   "metadata": {},
   "outputs": [
    {
     "name": "stdout",
     "output_type": "stream",
     "text": [
      "a: 10, b: -10\n"
     ]
    }
   ],
   "source": [
    "#Ques 7 : \n",
    "a = 10\n",
    "b = -a\n",
    "print(f'a: {a}, b: {b}')"
   ]
  },
  {
   "cell_type": "code",
   "execution_count": 12,
   "metadata": {},
   "outputs": [
    {
     "name": "stdout",
     "output_type": "stream",
     "text": [
      "even\n"
     ]
    }
   ],
   "source": [
    "#Ques 8 : Use the ternary operator to assign Values based on conditions.\n",
    "x = 10\n",
    "num = \"even\" if x%2 ==0 else \"odd\"\n",
    "print(num)\n"
   ]
  }
 ],
 "metadata": {
  "kernelspec": {
   "display_name": "Python 3",
   "language": "python",
   "name": "python3"
  },
  "language_info": {
   "codemirror_mode": {
    "name": "ipython",
    "version": 3
   },
   "file_extension": ".py",
   "mimetype": "text/x-python",
   "name": "python",
   "nbconvert_exporter": "python",
   "pygments_lexer": "ipython3",
   "version": "3.11.3"
  }
 },
 "nbformat": 4,
 "nbformat_minor": 2
}
